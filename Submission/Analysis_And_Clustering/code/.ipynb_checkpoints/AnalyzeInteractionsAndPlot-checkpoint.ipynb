{
 "cells": [
  {
   "cell_type": "code",
   "execution_count": 212,
   "metadata": {},
   "outputs": [],
   "source": [
    "import pandas as pd\n",
    "import interactionFinder2 as inf\n",
    "import datetime\n",
    "import seaborn as sns\n",
    "import matplotlib.pyplot as plt\n",
    "import numpy as np"
   ]
  },
  {
   "cell_type": "markdown",
   "metadata": {},
   "source": [
    "## Generate Interactions listing"
   ]
  },
  {
   "cell_type": "code",
   "execution_count": 2,
   "metadata": {
    "scrolled": true
   },
   "outputs": [
    {
     "name": "stdout",
     "output_type": "stream",
     "text": [
      "0.98% complete\n",
      "1.96% complete\n",
      "2.93% complete\n",
      "3.91% complete\n",
      "4.89% complete\n",
      "5.87% complete\n",
      "6.85% complete\n",
      "7.82% complete\n",
      "8.8% complete\n",
      "9.78% complete\n",
      "10.76% complete\n",
      "11.74% complete\n",
      "12.72% complete\n",
      "13.69% complete\n",
      "14.67% complete\n",
      "15.65% complete\n",
      "16.63% complete\n",
      "17.61% complete\n",
      "18.58% complete\n",
      "19.56% complete\n",
      "20.54% complete\n",
      "21.52% complete\n",
      "22.5% complete\n",
      "23.47% complete\n",
      "24.45% complete\n",
      "25.43% complete\n",
      "26.41% complete\n",
      "27.39% complete\n",
      "28.36% complete\n",
      "29.34% complete\n",
      "30.32% complete\n",
      "31.3% complete\n",
      "32.28% complete\n",
      "33.26% complete\n",
      "34.23% complete\n",
      "35.21% complete\n",
      "36.19% complete\n",
      "37.17% complete\n",
      "38.15% complete\n",
      "39.12% complete\n",
      "40.1% complete\n",
      "41.08% complete\n",
      "42.06% complete\n",
      "43.04% complete\n",
      "44.01% complete\n",
      "44.99% complete\n",
      "45.97% complete\n",
      "46.95% complete\n",
      "47.93% complete\n",
      "48.9% complete\n",
      "49.88% complete\n",
      "50.86% complete\n",
      "51.84% complete\n",
      "52.82% complete\n",
      "53.79% complete\n",
      "54.77% complete\n",
      "55.75% complete\n",
      "56.73% complete\n",
      "57.71% complete\n",
      "58.69% complete\n",
      "59.66% complete\n",
      "60.64% complete\n",
      "61.62% complete\n",
      "62.6% complete\n",
      "63.58% complete\n",
      "64.55% complete\n",
      "65.53% complete\n",
      "66.51% complete\n",
      "67.49% complete\n",
      "68.47% complete\n",
      "69.44% complete\n",
      "70.42% complete\n",
      "71.4% complete\n",
      "72.38% complete\n",
      "73.36% complete\n",
      "74.33% complete\n",
      "75.31% complete\n",
      "76.29% complete\n",
      "77.27% complete\n",
      "78.25% complete\n",
      "79.23% complete\n",
      "80.2% complete\n",
      "81.18% complete\n",
      "82.16% complete\n",
      "83.14% complete\n",
      "84.12% complete\n",
      "85.09% complete\n",
      "86.07% complete\n",
      "87.05% complete\n",
      "88.03% complete\n",
      "89.01% complete\n",
      "89.98% complete\n",
      "90.96% complete\n",
      "91.94% complete\n",
      "92.92% complete\n",
      "93.9% complete\n",
      "94.87% complete\n",
      "95.85% complete\n",
      "96.83% complete\n",
      "97.81% complete\n",
      "98.79% complete\n",
      "99.77% complete\n"
     ]
    }
   ],
   "source": [
    "inf.doItAll()"
   ]
  },
  {
   "cell_type": "code",
   "execution_count": 3,
   "metadata": {},
   "outputs": [
    {
     "data": {
      "text/html": [
       "<div>\n",
       "<style scoped>\n",
       "    .dataframe tbody tr th:only-of-type {\n",
       "        vertical-align: middle;\n",
       "    }\n",
       "\n",
       "    .dataframe tbody tr th {\n",
       "        vertical-align: top;\n",
       "    }\n",
       "\n",
       "    .dataframe thead th {\n",
       "        text-align: right;\n",
       "    }\n",
       "</style>\n",
       "<table border=\"1\" class=\"dataframe\">\n",
       "  <thead>\n",
       "    <tr style=\"text-align: right;\">\n",
       "      <th></th>\n",
       "      <th>Unnamed: 0</th>\n",
       "      <th>distance</th>\n",
       "      <th>endTime</th>\n",
       "      <th>shipA</th>\n",
       "      <th>shipATime</th>\n",
       "      <th>shipB</th>\n",
       "      <th>shipBTime</th>\n",
       "      <th>startTime</th>\n",
       "      <th>timeDelta</th>\n",
       "    </tr>\n",
       "  </thead>\n",
       "  <tbody>\n",
       "    <tr>\n",
       "      <th>27</th>\n",
       "      <td>140282970128740320</td>\n",
       "      <td>2662.666788</td>\n",
       "      <td>2017-01-30 18:10:55</td>\n",
       "      <td>381836264</td>\n",
       "      <td>2017-01-30 17:11:45</td>\n",
       "      <td>367390380</td>\n",
       "      <td>2017-01-30 17:11:45</td>\n",
       "      <td>2017-01-30 17:11:45</td>\n",
       "      <td>0.0</td>\n",
       "    </tr>\n",
       "    <tr>\n",
       "      <th>53</th>\n",
       "      <td>359558297156592000</td>\n",
       "      <td>126.102729</td>\n",
       "      <td>NaN</td>\n",
       "      <td>565328000</td>\n",
       "      <td>2017-01-14 19:30:34</td>\n",
       "      <td>636017139</td>\n",
       "      <td>2017-01-14 19:30:32</td>\n",
       "      <td>2017-01-14 19:30:32</td>\n",
       "      <td>2.0</td>\n",
       "    </tr>\n",
       "    <tr>\n",
       "      <th>12</th>\n",
       "      <td>129489803204080000</td>\n",
       "      <td>187.637644</td>\n",
       "      <td>2017-01-31 23:58:58</td>\n",
       "      <td>366988820</td>\n",
       "      <td>2017-01-31 05:50:23</td>\n",
       "      <td>352844000</td>\n",
       "      <td>2017-01-31 05:50:18</td>\n",
       "      <td>2017-01-31 05:50:18</td>\n",
       "      <td>5.0</td>\n",
       "    </tr>\n",
       "    <tr>\n",
       "      <th>14</th>\n",
       "      <td>129556776095040000</td>\n",
       "      <td>231.813259</td>\n",
       "      <td>2017-01-04 21:42:25</td>\n",
       "      <td>353073000</td>\n",
       "      <td>2017-01-04 20:43:11</td>\n",
       "      <td>366940480</td>\n",
       "      <td>2017-01-04 20:43:06</td>\n",
       "      <td>2017-01-04 20:43:06</td>\n",
       "      <td>5.0</td>\n",
       "    </tr>\n",
       "    <tr>\n",
       "      <th>42</th>\n",
       "      <td>206589288248352000</td>\n",
       "      <td>311.087569</td>\n",
       "      <td>2017-01-05 02:27:17</td>\n",
       "      <td>563004900</td>\n",
       "      <td>2017-01-05 01:27:45</td>\n",
       "      <td>366940480</td>\n",
       "      <td>2017-01-05 01:27:39</td>\n",
       "      <td>2017-01-05 01:27:39</td>\n",
       "      <td>6.0</td>\n",
       "    </tr>\n",
       "    <tr>\n",
       "      <th>19</th>\n",
       "      <td>131983938667000000</td>\n",
       "      <td>165.773192</td>\n",
       "      <td>2017-01-31 23:59:32</td>\n",
       "      <td>353003000</td>\n",
       "      <td>2017-01-31 18:04:49</td>\n",
       "      <td>373889000</td>\n",
       "      <td>2017-01-31 18:04:38</td>\n",
       "      <td>2017-01-31 18:04:38</td>\n",
       "      <td>11.0</td>\n",
       "    </tr>\n",
       "    <tr>\n",
       "      <th>17</th>\n",
       "      <td>130314875126720000</td>\n",
       "      <td>208.085896</td>\n",
       "      <td>2017-01-27 12:33:29</td>\n",
       "      <td>355139000</td>\n",
       "      <td>2017-01-27 11:57:10</td>\n",
       "      <td>366940480</td>\n",
       "      <td>2017-01-27 11:56:59</td>\n",
       "      <td>2017-01-27 11:56:59</td>\n",
       "      <td>11.0</td>\n",
       "    </tr>\n",
       "    <tr>\n",
       "      <th>25</th>\n",
       "      <td>137363221787820000</td>\n",
       "      <td>104.060483</td>\n",
       "      <td>2017-01-31 23:59:29</td>\n",
       "      <td>373889000</td>\n",
       "      <td>2017-01-31 08:28:49</td>\n",
       "      <td>367390380</td>\n",
       "      <td>2017-01-31 08:28:35</td>\n",
       "      <td>2017-01-31 08:28:35</td>\n",
       "      <td>14.0</td>\n",
       "    </tr>\n",
       "    <tr>\n",
       "      <th>16</th>\n",
       "      <td>129689906311140000</td>\n",
       "      <td>304.377553</td>\n",
       "      <td>2017-01-31 23:59:32</td>\n",
       "      <td>353003000</td>\n",
       "      <td>2017-01-31 18:04:49</td>\n",
       "      <td>367390380</td>\n",
       "      <td>2017-01-31 18:04:35</td>\n",
       "      <td>2017-01-31 18:04:35</td>\n",
       "      <td>14.0</td>\n",
       "    </tr>\n",
       "    <tr>\n",
       "      <th>29</th>\n",
       "      <td>168653292514400000</td>\n",
       "      <td>198.658882</td>\n",
       "      <td>2017-01-31 23:58:25</td>\n",
       "      <td>477982600</td>\n",
       "      <td>2017-01-31 19:11:24</td>\n",
       "      <td>352844000</td>\n",
       "      <td>2017-01-31 19:11:06</td>\n",
       "      <td>2017-01-31 19:11:06</td>\n",
       "      <td>18.0</td>\n",
       "    </tr>\n",
       "  </tbody>\n",
       "</table>\n",
       "</div>"
      ],
      "text/plain": [
       "            Unnamed: 0     distance              endTime      shipA  \\\n",
       "27  140282970128740320  2662.666788  2017-01-30 18:10:55  381836264   \n",
       "53  359558297156592000   126.102729                  NaN  565328000   \n",
       "12  129489803204080000   187.637644  2017-01-31 23:58:58  366988820   \n",
       "14  129556776095040000   231.813259  2017-01-04 21:42:25  353073000   \n",
       "42  206589288248352000   311.087569  2017-01-05 02:27:17  563004900   \n",
       "19  131983938667000000   165.773192  2017-01-31 23:59:32  353003000   \n",
       "17  130314875126720000   208.085896  2017-01-27 12:33:29  355139000   \n",
       "25  137363221787820000   104.060483  2017-01-31 23:59:29  373889000   \n",
       "16  129689906311140000   304.377553  2017-01-31 23:59:32  353003000   \n",
       "29  168653292514400000   198.658882  2017-01-31 23:58:25  477982600   \n",
       "\n",
       "              shipATime      shipB            shipBTime            startTime  \\\n",
       "27  2017-01-30 17:11:45  367390380  2017-01-30 17:11:45  2017-01-30 17:11:45   \n",
       "53  2017-01-14 19:30:34  636017139  2017-01-14 19:30:32  2017-01-14 19:30:32   \n",
       "12  2017-01-31 05:50:23  352844000  2017-01-31 05:50:18  2017-01-31 05:50:18   \n",
       "14  2017-01-04 20:43:11  366940480  2017-01-04 20:43:06  2017-01-04 20:43:06   \n",
       "42  2017-01-05 01:27:45  366940480  2017-01-05 01:27:39  2017-01-05 01:27:39   \n",
       "19  2017-01-31 18:04:49  373889000  2017-01-31 18:04:38  2017-01-31 18:04:38   \n",
       "17  2017-01-27 11:57:10  366940480  2017-01-27 11:56:59  2017-01-27 11:56:59   \n",
       "25  2017-01-31 08:28:49  367390380  2017-01-31 08:28:35  2017-01-31 08:28:35   \n",
       "16  2017-01-31 18:04:49  367390380  2017-01-31 18:04:35  2017-01-31 18:04:35   \n",
       "29  2017-01-31 19:11:24  352844000  2017-01-31 19:11:06  2017-01-31 19:11:06   \n",
       "\n",
       "    timeDelta  \n",
       "27        0.0  \n",
       "53        2.0  \n",
       "12        5.0  \n",
       "14        5.0  \n",
       "42        6.0  \n",
       "19       11.0  \n",
       "17       11.0  \n",
       "25       14.0  \n",
       "16       14.0  \n",
       "29       18.0  "
      ]
     },
     "execution_count": 3,
     "metadata": {},
     "output_type": "execute_result"
    }
   ],
   "source": [
    "z = pd.read_csv('./Interactions_AIS_2017_01_Zone01.csv')\n",
    "z.sort_values(by=[\"timeDelta\", \"distance\"]).head(10)"
   ]
  },
  {
   "cell_type": "code",
   "execution_count": 4,
   "metadata": {},
   "outputs": [
    {
     "data": {
      "text/plain": [
       "<matplotlib.axes._subplots.AxesSubplot at 0x21756d21748>"
      ]
     },
     "execution_count": 4,
     "metadata": {},
     "output_type": "execute_result"
    },
    {
     "data": {
      "image/png": "[encoded data removed]",
      "text/plain": [
       "<Figure size 432x288 with 1 Axes>"
      ]
     },
     "metadata": {},
     "output_type": "display_data"
    }
   ],
   "source": [
    "sns.regplot(data = z, x = \"timeDelta\", y = \"distance\")"
   ]
  },
  {
   "cell_type": "code",
   "execution_count": 5,
   "metadata": {},
   "outputs": [
    {
     "data": {
      "text/html": [
       "<div>\n",
       "<style scoped>\n",
       "    .dataframe tbody tr th:only-of-type {\n",
       "        vertical-align: middle;\n",
       "    }\n",
       "\n",
       "    .dataframe tbody tr th {\n",
       "        vertical-align: top;\n",
       "    }\n",
       "\n",
       "    .dataframe thead th {\n",
       "        text-align: right;\n",
       "    }\n",
       "</style>\n",
       "<table border=\"1\" class=\"dataframe\">\n",
       "  <thead>\n",
       "    <tr style=\"text-align: right;\">\n",
       "      <th></th>\n",
       "      <th>Unnamed: 0</th>\n",
       "      <th>distance</th>\n",
       "      <th>endTime</th>\n",
       "      <th>shipA</th>\n",
       "      <th>shipATime</th>\n",
       "      <th>shipB</th>\n",
       "      <th>shipBTime</th>\n",
       "      <th>startTime</th>\n",
       "      <th>timeDelta</th>\n",
       "    </tr>\n",
       "  </thead>\n",
       "  <tbody>\n",
       "    <tr>\n",
       "      <th>4</th>\n",
       "      <td>77614149508160000</td>\n",
       "      <td>253.357978</td>\n",
       "      <td>2017-01-05 01:47:19</td>\n",
       "      <td>211517000</td>\n",
       "      <td>2017-01-04 23:30:54</td>\n",
       "      <td>366940480</td>\n",
       "      <td>2017-01-04 23:29:56</td>\n",
       "      <td>2017-01-04 23:29:56</td>\n",
       "      <td>58.0</td>\n",
       "    </tr>\n",
       "    <tr>\n",
       "      <th>8</th>\n",
       "      <td>114133592013898160</td>\n",
       "      <td>73.360993</td>\n",
       "      <td>2017-01-05 08:34:43</td>\n",
       "      <td>311000188</td>\n",
       "      <td>2017-01-05 07:54:40</td>\n",
       "      <td>366988820</td>\n",
       "      <td>2017-01-05 07:47:12</td>\n",
       "      <td>2017-01-05 07:47:12</td>\n",
       "      <td>448.0</td>\n",
       "    </tr>\n",
       "    <tr>\n",
       "      <th>11</th>\n",
       "      <td>124554990532000000</td>\n",
       "      <td>189.679579</td>\n",
       "      <td>2017-01-31 23:59:32</td>\n",
       "      <td>353003000</td>\n",
       "      <td>2017-01-31 18:04:49</td>\n",
       "      <td>352844000</td>\n",
       "      <td>2017-01-31 18:02:04</td>\n",
       "      <td>2017-01-31 18:02:04</td>\n",
       "      <td>165.0</td>\n",
       "    </tr>\n",
       "    <tr>\n",
       "      <th>12</th>\n",
       "      <td>129489803204080000</td>\n",
       "      <td>187.637644</td>\n",
       "      <td>2017-01-31 23:58:58</td>\n",
       "      <td>366988820</td>\n",
       "      <td>2017-01-31 05:50:23</td>\n",
       "      <td>352844000</td>\n",
       "      <td>2017-01-31 05:50:18</td>\n",
       "      <td>2017-01-31 05:50:18</td>\n",
       "      <td>5.0</td>\n",
       "    </tr>\n",
       "    <tr>\n",
       "      <th>13</th>\n",
       "      <td>129548154426460000</td>\n",
       "      <td>197.928767</td>\n",
       "      <td>2017-01-31 23:59:32</td>\n",
       "      <td>353003000</td>\n",
       "      <td>2017-01-31 18:04:49</td>\n",
       "      <td>366988820</td>\n",
       "      <td>2017-01-31 18:03:53</td>\n",
       "      <td>2017-01-31 18:03:53</td>\n",
       "      <td>56.0</td>\n",
       "    </tr>\n",
       "  </tbody>\n",
       "</table>\n",
       "</div>"
      ],
      "text/plain": [
       "            Unnamed: 0    distance              endTime      shipA  \\\n",
       "4    77614149508160000  253.357978  2017-01-05 01:47:19  211517000   \n",
       "8   114133592013898160   73.360993  2017-01-05 08:34:43  311000188   \n",
       "11  124554990532000000  189.679579  2017-01-31 23:59:32  353003000   \n",
       "12  129489803204080000  187.637644  2017-01-31 23:58:58  366988820   \n",
       "13  129548154426460000  197.928767  2017-01-31 23:59:32  353003000   \n",
       "\n",
       "              shipATime      shipB            shipBTime            startTime  \\\n",
       "4   2017-01-04 23:30:54  366940480  2017-01-04 23:29:56  2017-01-04 23:29:56   \n",
       "8   2017-01-05 07:54:40  366988820  2017-01-05 07:47:12  2017-01-05 07:47:12   \n",
       "11  2017-01-31 18:04:49  352844000  2017-01-31 18:02:04  2017-01-31 18:02:04   \n",
       "12  2017-01-31 05:50:23  352844000  2017-01-31 05:50:18  2017-01-31 05:50:18   \n",
       "13  2017-01-31 18:04:49  366988820  2017-01-31 18:03:53  2017-01-31 18:03:53   \n",
       "\n",
       "    timeDelta  \n",
       "4        58.0  \n",
       "8       448.0  \n",
       "11      165.0  \n",
       "12        5.0  \n",
       "13       56.0  "
      ]
     },
     "execution_count": 5,
     "metadata": {},
     "output_type": "execute_result"
    }
   ],
   "source": [
    "# interactions that are closest in time and space\n",
    "most_interesting = z[(z.distance < 500) & (z.timeDelta < 500)]\n",
    "most_interesting.head()"
   ]
  },
  {
   "cell_type": "markdown",
   "metadata": {},
   "source": [
    "## Load transaction-level data for interactions"
   ]
  },
  {
   "cell_type": "markdown",
   "metadata": {},
   "source": [
    "Now we analyze the AIS data for the ship-pair interactions"
   ]
  },
  {
   "cell_type": "code",
   "execution_count": 196,
   "metadata": {},
   "outputs": [],
   "source": [
    "a = inf.loadData()\n",
    "a = a.sort_values(by='BaseDateTime')\n",
    "a['BaseDateTime'] = pd.to_datetime(a['BaseDateTime']).apply(lambda x: x.round(\"min\"))"
   ]
  },
  {
   "cell_type": "code",
   "execution_count": null,
   "metadata": {},
   "outputs": [],
   "source": []
  },
  {
   "cell_type": "code",
   "execution_count": 232,
   "metadata": {},
   "outputs": [],
   "source": [
    "a = a.fillna(method='pad')\n",
    "\n",
    "def generateTabularView(interactionToAnalyze):\n",
    "    ships_of_interest = a[(a.MMSI == most_interesting.iloc[interactionToAnalyze].shipA) | (a.MMSI ==  most_interesting.iloc[interactionToAnalyze].shipB)]\n",
    "    ships_of_interest['BaseDateTime'] = pd.to_datetime(ships_of_interest['BaseDateTime'])\n",
    "    interaction = most_interesting.iloc[interactionToAnalyze]\n",
    "    interaction_records = a[((a.MMSI == interaction.shipA) | (a.MMSI == interaction.shipB)) & ((a.BaseDateTime <= interaction.endTime) | (a.BaseDateTime >= interaction.endTime))]\n",
    "    start_time = max(interaction_records.BaseDateTime.min(), interaction_records.BaseDateTime.min())\n",
    "    end_time = min(interaction_records.BaseDateTime.max(), interaction_records.BaseDateTime.max())\n",
    "    rounded = interaction_records[(interaction_records.BaseDateTime >= start_time) & (interaction_records.BaseDateTime <= end_time)]\n",
    "    rounded['BaseDateTime'] = rounded.BaseDateTime.apply(lambda x: x.round(\"min\"))\n",
    "    timeIndex = pd.date_range(start=start_time, end=end_time, freq=\"1min\")\n",
    "    shipA = interaction_records[interaction_records.MMSI == interaction.shipA]\n",
    "    shipB = interaction_records[interaction_records.MMSI == interaction.shipB]\n",
    "    shipARecords = []\n",
    "    for row in shipA.iterrows():\n",
    "        record = row[1]\n",
    "        shipARecords.append((record.LAT, record.LON))\n",
    "\n",
    "    shipBRecords = []\n",
    "    for row in shipB.iterrows():\n",
    "        record = row[1]\n",
    "        shipBRecords.append((record.LAT, record.LON))\n",
    "    tabularView = {}\n",
    "    shipStatusA= {\n",
    "        \"ship_A_MMSI\": shipA.iloc[0].MMSI,\n",
    "        \"ship_A_LAT\": shipARecords[0][0],\n",
    "        \"ship_A_LON\": shipARecords[0][1],\n",
    "        \"ship_A_COG\": shipA.iloc[0].COG,\n",
    "        \"ship_A_SOG\": shipA.iloc[0].SOG,\n",
    "        \"ship_A_Heading\": shipA.iloc[0].Heading\n",
    "    }\n",
    "    shipStatusB = {\n",
    "        \"ship_B_MMSI\": shipB.iloc[0].MMSI,\n",
    "        \"ship_B_LAT\": shipBRecords[0][0],\n",
    "        \"ship_B_LON\": shipBRecords[0][1],\n",
    "        \"ship_B_COG\": shipB.iloc[0].COG,\n",
    "        \"ship_B_SOG\": shipB.iloc[0].SOG,\n",
    "        \"ship_B_Heading\": shipB.iloc[0].Heading\n",
    "    }\n",
    "    for time in timeIndex:\n",
    "        if len(shipA[shipA.BaseDateTime == time]):\n",
    "            recordA = shipA[shipA.BaseDateTime == time].iloc[0]\n",
    "            shipStatusA = recordA[[\"LAT\",\"LON\",\"COG\",\"SOG\",\"Heading\", \"MMSI\"]]\n",
    "            shipStatusA.index = \"ship_A_\"+shipStatusA.index\n",
    "        if len(shipB[shipB.BaseDateTime == time]):\n",
    "            recordB = shipB[shipB.BaseDateTime == time].iloc[0]\n",
    "            shipStatusB = recordB[[\"LAT\",\"LON\",\"COG\",\"SOG\",\"Heading\", \"MMSI\"]]\n",
    "            shipStatusB.index = \"ship_B_\"+shipStatusB.index\n",
    "\n",
    "        distance = inf.haversineDistance(shipA=(shipStatusA['ship_A_LAT'], shipStatusA['ship_A_LON']), \\\n",
    "                                        shipB=(shipStatusB['ship_B_LAT'], shipStatusB['ship_B_LON']))\n",
    "        tabularView[time] = {**shipStatusA, **shipStatusB, \"time\": time, \"distance\": distance}\n",
    "\n",
    "\n",
    "    tabularView = pd.DataFrame(tabularView).T\n",
    "    return tabularView"
   ]
  },
  {
   "cell_type": "code",
   "execution_count": 199,
   "metadata": {
    "scrolled": true
   },
   "outputs": [
    {
     "name": "stderr",
     "output_type": "stream",
     "text": [
      "C:\\Users\\JosephHaaga\\Anaconda3\\lib\\site-packages\\ipykernel_launcher.py:3: SettingWithCopyWarning: \n",
      "A value is trying to be set on a copy of a slice from a DataFrame.\n",
      "Try using .loc[row_indexer,col_indexer] = value instead\n",
      "\n",
      "See the caveats in the documentation: http://pandas.pydata.org/pandas-docs/stable/indexing.html#indexing-view-versus-copy\n",
      "  This is separate from the ipykernel package so we can avoid doing imports until\n"
     ]
    }
   ],
   "source": [
    "interaction = generateTabularView(7)"
   ]
  },
  {
   "cell_type": "code",
   "execution_count": 222,
   "metadata": {},
   "outputs": [],
   "source": [
    "# interaction.tail()"
   ]
  },
  {
   "cell_type": "code",
   "execution_count": null,
   "metadata": {},
   "outputs": [],
   "source": []
  },
  {
   "cell_type": "code",
   "execution_count": 208,
   "metadata": {},
   "outputs": [
    {
     "data": {
      "text/plain": [
       "<matplotlib.axes._subplots.AxesSubplot at 0x217679864a8>"
      ]
     },
     "execution_count": 208,
     "metadata": {},
     "output_type": "execute_result"
    },
    {
     "data": {
      "image/png": "[encoded data removed]",
      "text/plain": [
       "<Figure size 432x288 with 1 Axes>"
      ]
     },
     "metadata": {},
     "output_type": "display_data"
    }
   ],
   "source": [
    "interaction.ship_A_COG.plot(kind='box')"
   ]
  },
  {
   "cell_type": "code",
   "execution_count": 126,
   "metadata": {
    "scrolled": true
   },
   "outputs": [],
   "source": [
    "def plotCOGS(interaction):\n",
    "#     p = plt.plot(interaction[['ship_A_COG', 'ship_B_COG']])[0].axes\n",
    "#     p.set_title(\"COG\")\n",
    "#     # Now add the legend with some customizations.\n",
    "#     p.legend(loc='upper center', shadow=True)\n",
    "    fig, ax = plt.subplots()\n",
    "    ax.plot(interaction.index,interaction.ship_A_COG, label='Ship A')\n",
    "    ax.plot(interaction.index, interaction.ship_B_COG, label='Ship B')\n",
    "    ax.set_title(\"COG\")\n",
    "    # Now add the legend with some customizations.\n",
    "    legend = ax.legend(loc='upper center', shadow=True)\n",
    "    \n",
    "def plotSOG(interaction):\n",
    "# #     p = plt.plot(interaction[['ship_A_SOG', 'ship_B_SOG', 'distance']])[0].axes\n",
    "#     p = plt.plot(interaction[['ship_A_SOG', 'ship_B_SOG']])[0].axes\n",
    "#     p.set_title(\"SOG\")\n",
    "    fig, ax = plt.subplots()\n",
    "    ax.plot(interaction.index,interaction.ship_A_SOG, label='Ship A')\n",
    "    ax.plot(interaction.index, interaction.ship_B_SOG, label='Ship B')\n",
    "    ax.set_title(\"SOG\")\n",
    "    # Now add the legend with some customizations.\n",
    "    legend = ax.legend(loc='upper center', shadow=True)\n",
    "    \n",
    "\n",
    "def plotHeading(interaction):\n",
    "    fig, ax = plt.subplots()\n",
    "    ax.plot(interaction.index,interaction.ship_A_Heading, label='Ship A')\n",
    "    ax.plot(interaction.index, interaction.ship_B_Heading, label='Ship B')\n",
    "\n",
    "    ax.set_title(\"Heading\")\n",
    "    # Now add the legend with some customizations.\n",
    "    legend = ax.legend(loc='upper center', shadow=True)\n",
    "    \n",
    "def plotHeadingDifference(interaction):\n",
    "    difference_in_Heading = abs(interaction['ship_A_Heading'] - interaction['ship_B_Heading'])\n",
    "    plt.plot(difference_in_Heading)[0].axes\n",
    "    p.set_title(\"Heading Difference\")\n",
    "    \n",
    "def plotHeadingFirstDifferences(interaction):\n",
    "    fig, ax = plt.subplots()\n",
    "    ax.plot(interaction.index,interaction.ship_A_Heading.diff(), label='Ship A')\n",
    "    ax.plot(interaction.index, interaction.ship_B_Heading.diff(), label='Ship B')\n",
    "\n",
    "    ax.set_title(\"Heading First Differences\")\n",
    "    # Now add the legend with some customizations.\n",
    "    legend = ax.legend(loc='upper center', shadow=True)"
   ]
  },
  {
   "cell_type": "code",
   "execution_count": 209,
   "metadata": {},
   "outputs": [
    {
     "data": {
      "image/png": "[encoded data removed]",
      "text/plain": [
       "<Figure size 432x288 with 1 Axes>"
      ]
     },
     "metadata": {},
     "output_type": "display_data"
    }
   ],
   "source": [
    "plotCOGS(interaction)"
   ]
  },
  {
   "cell_type": "code",
   "execution_count": 94,
   "metadata": {},
   "outputs": [
    {
     "data": {
      "image/png": "[encoded data removed]",
      "text/plain": [
       "<Figure size 432x288 with 1 Axes>"
      ]
     },
     "metadata": {},
     "output_type": "display_data"
    }
   ],
   "source": [
    "plotSOG(interaction)"
   ]
  },
  {
   "cell_type": "code",
   "execution_count": 98,
   "metadata": {},
   "outputs": [
    {
     "data": {
      "image/png": "[encoded data removed]",
      "text/plain": [
       "<Figure size 432x288 with 1 Axes>"
      ]
     },
     "metadata": {},
     "output_type": "display_data"
    }
   ],
   "source": [
    "plotHeading(interaction)"
   ]
  },
  {
   "cell_type": "code",
   "execution_count": 115,
   "metadata": {},
   "outputs": [
    {
     "data": {
      "image/png": "[encoded data removed]",
      "text/plain": [
       "<Figure size 432x288 with 1 Axes>"
      ]
     },
     "metadata": {},
     "output_type": "display_data"
    }
   ],
   "source": [
    "plotHeadingFirstDifferences(interaction)"
   ]
  },
  {
   "cell_type": "code",
   "execution_count": 118,
   "metadata": {},
   "outputs": [
    {
     "data": {
      "text/plain": [
       "<matplotlib.axes._subplots.AxesSubplot at 0x217611aef28>"
      ]
     },
     "execution_count": 118,
     "metadata": {},
     "output_type": "execute_result"
    },
    {
     "data": {
      "image/png": "[encoded data removed]",
      "text/plain": [
       "<Figure size 432x288 with 1 Axes>"
      ]
     },
     "metadata": {},
     "output_type": "display_data"
    }
   ],
   "source": [
    "interaction[['ship_A_Heading', 'ship_B_Heading']].diff().plot(kind='box')"
   ]
  },
  {
   "cell_type": "markdown",
   "metadata": {},
   "source": [
    "If we analyze the boxplot of first-differences of the Heading of each ship, we see that ship A deferred to ship B. It is likely that ship A is smaller than ship B"
   ]
  },
  {
   "cell_type": "code",
   "execution_count": 72,
   "metadata": {},
   "outputs": [
    {
     "data": {
      "text/plain": [
       "<matplotlib.axes._subplots.AxesSubplot at 0x2175b4b36a0>"
      ]
     },
     "execution_count": 72,
     "metadata": {},
     "output_type": "execute_result"
    },
    {
     "data": {
      "image/png": "[encoded data removed]",
      "text/plain": [
       "<Figure size 432x288 with 1 Axes>"
      ]
     },
     "metadata": {},
     "output_type": "display_data"
    }
   ],
   "source": [
    "interaction.distance.plot()"
   ]
  },
  {
   "cell_type": "markdown",
   "metadata": {},
   "source": [
    "I. Classify interactions \n",
    "\n",
    "II. Mine sequences of actions taken \n",
    "\n",
    "III. Time series analysis to determine who deferred to who"
   ]
  },
  {
   "cell_type": "markdown",
   "metadata": {},
   "source": [
    "## Clustering"
   ]
  },
  {
   "cell_type": "code",
   "execution_count": 147,
   "metadata": {},
   "outputs": [
    {
     "data": {
      "text/plain": [
       "distance                  261.555\n",
       "ship_A_COG                     21\n",
       "ship_A_Heading                 17\n",
       "ship_A_LAT                0.20872\n",
       "ship_A_LON                1.61355\n",
       "ship_A_MMSI                     0\n",
       "ship_A_SOG                    1.2\n",
       "ship_B_COG                  409.5\n",
       "ship_B_Heading                  0\n",
       "ship_B_LAT                0.74486\n",
       "ship_B_LON                3.67772\n",
       "ship_B_MMSI                     0\n",
       "ship_B_SOG                   13.1\n",
       "time              2 days 09:28:00\n",
       "dtype: object"
      ]
     },
     "execution_count": 147,
     "metadata": {},
     "output_type": "execute_result"
    }
   ],
   "source": [
    "interaction.max() - interaction.min()"
   ]
  },
  {
   "cell_type": "markdown",
   "metadata": {},
   "source": [
    "### Aggregation\n",
    "For each interaction, generate timeseries of each ship's AIS data and aggregate the range of values. This data will be used to perform KMeans clustering with `k = 3` to determine if behavior can be cleanly segmented into the three main interaction types."
   ]
  },
  {
   "cell_type": "code",
   "execution_count": null,
   "metadata": {},
   "outputs": [
    {
     "name": "stdout",
     "output_type": "stream",
     "text": [
      "0\n"
     ]
    },
    {
     "name": "stderr",
     "output_type": "stream",
     "text": [
      "C:\\Users\\JosephHaaga\\Anaconda3\\lib\\site-packages\\ipykernel_launcher.py:5: SettingWithCopyWarning: \n",
      "A value is trying to be set on a copy of a slice from a DataFrame.\n",
      "Try using .loc[row_indexer,col_indexer] = value instead\n",
      "\n",
      "See the caveats in the documentation: http://pandas.pydata.org/pandas-docs/stable/indexing.html#indexing-view-versus-copy\n",
      "  \"\"\"\n"
     ]
    },
    {
     "name": "stdout",
     "output_type": "stream",
     "text": [
      "1\n",
      "2\n",
      "3\n",
      "4\n",
      "5\n",
      "6\n",
      "7\n",
      "8\n",
      "9\n",
      "10\n",
      "11\n"
     ]
    }
   ],
   "source": [
    "interaction_aggregates = {}\n",
    "\n",
    "for i in range(len(most_interesting)):\n",
    "    print(i)\n",
    "    try:\n",
    "        t = generateTabularView(i)\n",
    "    except:\n",
    "        print(\"Error on \"+i)\n",
    "    \n",
    "    interaction_aggregates[i] = t.max() - t.min()"
   ]
  },
  {
   "cell_type": "code",
   "execution_count": null,
   "metadata": {},
   "outputs": [],
   "source": [
    "aggregatesDF = pd.DataFrame(interaction_aggregates).T"
   ]
  },
  {
   "cell_type": "code",
   "execution_count": null,
   "metadata": {},
   "outputs": [],
   "source": [
    "from sklearn.cluster import KMeans"
   ]
  },
  {
   "cell_type": "code",
   "execution_count": null,
   "metadata": {},
   "outputs": [],
   "source": [
    "aggregatesDF = aggregatesDF.drop(['time'], axis=1)"
   ]
  },
  {
   "cell_type": "code",
   "execution_count": null,
   "metadata": {},
   "outputs": [],
   "source": [
    "km = KMeans(n_clusters=3)"
   ]
  },
  {
   "cell_type": "code",
   "execution_count": null,
   "metadata": {},
   "outputs": [],
   "source": [
    "kmeans_results = km.fit_predict(X=aggregatesDF)"
   ]
  },
  {
   "cell_type": "code",
   "execution_count": null,
   "metadata": {},
   "outputs": [],
   "source": [
    "kmeans_results.apply"
   ]
  },
  {
   "cell_type": "code",
   "execution_count": null,
   "metadata": {},
   "outputs": [],
   "source": [
    "aggregatesDF['cluster'] = kmeans_results "
   ]
  },
  {
   "cell_type": "code",
   "execution_count": null,
   "metadata": {},
   "outputs": [],
   "source": [
    "aggregatesDF.head()"
   ]
  },
  {
   "cell_type": "code",
   "execution_count": null,
   "metadata": {},
   "outputs": [],
   "source": [
    "from sklearn.tree import DecisionTreeClassifier"
   ]
  },
  {
   "cell_type": "code",
   "execution_count": null,
   "metadata": {},
   "outputs": [],
   "source": [
    "dt = DecisionTreeClassifier()"
   ]
  },
  {
   "cell_type": "code",
   "execution_count": null,
   "metadata": {},
   "outputs": [],
   "source": [
    "dt.fit(X=aggregatesDF.drop(['cluster'], axis=1), y=aggregatesDF.cluster)"
   ]
  },
  {
   "cell_type": "code",
   "execution_count": null,
   "metadata": {},
   "outputs": [],
   "source": [
    "dt.feature_importances_"
   ]
  },
  {
   "cell_type": "markdown",
   "metadata": {},
   "source": [
    "## Visualization"
   ]
  },
  {
   "cell_type": "code",
   "execution_count": null,
   "metadata": {},
   "outputs": [],
   "source": [
    "from gmplot import gmplot"
   ]
  },
  {
   "cell_type": "code",
   "execution_count": null,
   "metadata": {},
   "outputs": [],
   "source": [
    "# Place map\n",
    "gmap = gmplot.GoogleMapPlotter(interaction.ship_A_LAT.mean(), interaction.ship_A_LON.mean(), 7)\n",
    "\n",
    "# Polygon\n",
    "\n",
    "shipA_lats, shipA_lons = [interaction.ship_A_LAT, interaction.ship_A_LON]\n",
    "gmap.plot(shipA_lats, shipA_lons, 'cornflowerblue', edge_width=10)\n",
    "\n",
    "shipB_lats, shipB_lons = [interaction.ship_B_LAT, interaction.ship_B_LON]\n",
    "gmap.plot(shipB_lats, shipB_lons, 'orange', edge_width=10)\n",
    "\n",
    "\n",
    "# Draw\n",
    "gmap.draw(\"index.html\")"
   ]
  },
  {
   "cell_type": "code",
   "execution_count": null,
   "metadata": {},
   "outputs": [],
   "source": []
  },
  {
   "cell_type": "code",
   "execution_count": null,
   "metadata": {},
   "outputs": [],
   "source": []
  },
  {
   "cell_type": "code",
   "execution_count": null,
   "metadata": {},
   "outputs": [],
   "source": [
    "# write coordinates json for MapBox\n",
    "import json\n",
    "with open(\"coordList.json\", 'w') as outfile:\n",
    "    json.dump(list(map(lambda x: [x[1], x[0]], shipARecords)), outfile)"
   ]
  },
  {
   "cell_type": "code",
   "execution_count": null,
   "metadata": {},
   "outputs": [],
   "source": [
    "with open(\"coordListB.json\", 'w') as outfile:\n",
    "    json.dump(list(map(lambda x: [x[1], x[0]], shipBRecords)), outfile)"
   ]
  },
  {
   "cell_type": "code",
   "execution_count": null,
   "metadata": {
    "scrolled": true
   },
   "outputs": [],
   "source": [
    "shipA_COGS = interaction_records[interaction_records.MMSI == interaction.shipA].COG.value_counts().sort_index()\n",
    "shipB_COGS = interaction_records[interaction_records.MMSI == interaction.shipB].COG.value_counts().sort_index()"
   ]
  },
  {
   "cell_type": "code",
   "execution_count": null,
   "metadata": {},
   "outputs": [],
   "source": [
    "import numpy as np\n",
    "import matplotlib.pyplot as plt\n",
    "\n",
    "# https://stackoverflow.com/questions/22562364/circular-histogram-for-python\n",
    "\n",
    "N = 80\n",
    "bottom = 8\n",
    "max_height = 4\n",
    "\n",
    "theta = np.linspace(0.0, 2 * np.pi, N, endpoint=False)\n",
    "radii = max_height*np.random.rand(N)\n",
    "width = (2*np.pi) / N\n",
    "\n",
    "ax = plt.subplot(121, polar=True)\n",
    "bars = ax.bar(list(shipA_COGS.index), list(shipA_COGS.values), width=width, bottom=bottom)\n",
    "ax.set_theta_zero_location(\"N\")\n",
    "\n",
    "# Use custom colors and opacity\n",
    "for r, bar in zip(radii, bars):\n",
    "    bar.set_facecolor(plt.cm.jet(r / 0.5))\n",
    "    bar.set_alpha(0.8)\n",
    "ax = plt.subplot(122, polar=True)\n",
    "bars2 = ax.bar(list(shipB_COGS.index), list(shipB_COGS.values), width=width, bottom=bottom)\n",
    "\n",
    "ax.set_theta_zero_location(\"N\")\n",
    "\n",
    "# Use custom colors and opacity\n",
    "for r, bar in zip(radii, bars):\n",
    "    bar.set_facecolor(plt.cm.jet(r / 0.5))\n",
    "    bar.set_alpha(0.8)\n",
    "    \n",
    "# Use custom colors and opacity\n",
    "for r, bar in zip(radii, bars2):\n",
    "    bar.set_facecolor(plt.cm.jet(r / 0.5))\n",
    "    bar.set_alpha(0.8)\n",
    "\n",
    "plt.show()"
   ]
  }
 ],
 "metadata": {
  "kernelspec": {
   "display_name": "Python 3",
   "language": "python",
   "name": "python3"
  },
  "language_info": {
   "codemirror_mode": {
    "name": "ipython",
    "version": 3
   },
   "file_extension": ".py",
   "mimetype": "text/x-python",
   "name": "python",
   "nbconvert_exporter": "python",
   "pygments_lexer": "ipython3",
   "version": "3.5.5"
  }
 },
 "nbformat": 4,
 "nbformat_minor": 2
}
