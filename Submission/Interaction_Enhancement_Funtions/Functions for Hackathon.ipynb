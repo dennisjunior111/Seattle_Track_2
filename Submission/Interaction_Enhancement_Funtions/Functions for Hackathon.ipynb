{
 "cells": [
  {
   "cell_type": "code",
   "execution_count": 147,
   "metadata": {},
   "outputs": [],
   "source": [
    "import psycopg2\n",
    "import sys\n",
    "import os\n",
    "import pandas as pd\n",
    "import math"
   ]
  },
  {
   "cell_type": "code",
   "execution_count": 89,
   "metadata": {},
   "outputs": [
    {
     "name": "stdout",
     "output_type": "stream",
     "text": [
      "Connecting to database\n",
      "    ->host='htm-redhorse.cpgyjyre5uq9.us-west-2.rds.amazonaws.com' dbname='htm_redhorse_postgres' user='westinn' password='rootroot'\n"
     ]
    }
   ],
   "source": [
    "HOST=\"htm-redhorse.cpgyjyre5uq9.us-west-2.rds.amazonaws.com\"\n",
    "DATABASE=\"htm_redhorse_postgres\"\n",
    "USER=\"westinn\"\n",
    "PASSWORD=\"rootroot\"\n",
    "\n",
    "#Define our connection string\n",
    "conn_string = \"host='\"+ HOST + \"' dbname='\" + DATABASE +\"' user='\" + USER + \"' password='\" + PASSWORD +\"'\"\n",
    "\n",
    "# print the connection string we will use to connect\n",
    "print(\"Connecting to database\\n    ->%s\" % (conn_string))\n",
    "\n",
    "# # get a connection, if a connect cannot be made an exception will be raised here\n",
    "# conn = psycopg2.connect(conn_string)\n",
    "\n",
    "# # conn.cursor will return a cursor object, you can use this cursor to perform queries\n",
    "# cursor = conn.cursor()\n",
    "# print(\"Connected!\\n\")\n",
    "\n",
    "# connection should be closed after the query\n",
    "# if sql fails\n",
    "\n",
    "def execute(query):\n",
    "   try:\n",
    "       conn = psycopg2.connect(conn_string)\n",
    "       cursor = conn.cursor()\n",
    "       print(\"Query:\")\n",
    "       print(query)\n",
    "       df = pd.io.sql.read_sql_query(query, conn) # get all rows with mmsi\n",
    "       conn.close()\n",
    "       return df\n",
    "   except Exception as err:\n",
    "       print(\"Error:\")\n",
    "       print(err)\n",
    "       cursor.execute(\"rollback\")\n",
    "       conn.close()"
   ]
  },
  {
   "cell_type": "code",
   "execution_count": 96,
   "metadata": {},
   "outputs": [
    {
     "name": "stdout",
     "output_type": "stream",
     "text": [
      "Query:\n",
      "\n",
      "    select *\n",
      "     from analysis as t1, analysis as t2\n",
      "     where ST_Intersects(t1.\"GEOM\", t2.\"GEOM\") = true\n",
      "        and t1.\"min_hour_BaseDate\" = t2.\"min_hour_BaseDate\"\n",
      "        and t1.\"MMSI\" < t2.\"MMSI\"\n",
      "        and t1.\"min_SOG\" > 1.0 and t2.\"min_SOG\" > 1.0\n",
      "    limit 1\n",
      ";\n",
      "\n"
     ]
    }
   ],
   "source": [
    "query = \"\"\"\n",
    "    select *\n",
    "     from analysis as t1, analysis as t2\n",
    "     where ST_Intersects(t1.\"GEOM\", t2.\"GEOM\") = true\n",
    "        and t1.\"min_hour_BaseDate\" = t2.\"min_hour_BaseDate\"\n",
    "        and t1.\"MMSI\" < t2.\"MMSI\"\n",
    "        and t1.\"min_SOG\" > 1.0 and t2.\"min_SOG\" > 1.0\n",
    "    limit 1\n",
    ";\n",
    "\"\"\"\n",
    "\n",
    "df = execute(query)"
   ]
  },
  {
   "cell_type": "code",
   "execution_count": 97,
   "metadata": {},
   "outputs": [
    {
     "data": {
      "text/html": [
       "<div>\n",
       "<style scoped>\n",
       "    .dataframe tbody tr th:only-of-type {\n",
       "        vertical-align: middle;\n",
       "    }\n",
       "\n",
       "    .dataframe tbody tr th {\n",
       "        vertical-align: top;\n",
       "    }\n",
       "\n",
       "    .dataframe thead th {\n",
       "        text-align: right;\n",
       "    }\n",
       "</style>\n",
       "<table border=\"1\" class=\"dataframe\">\n",
       "  <thead>\n",
       "    <tr style=\"text-align: right;\">\n",
       "      <th></th>\n",
       "      <th>MMSI</th>\n",
       "      <th>min_LAT</th>\n",
       "      <th>max_LAT</th>\n",
       "      <th>min_LON</th>\n",
       "      <th>max_LON</th>\n",
       "      <th>min_BaseDate</th>\n",
       "      <th>max_BaseDate</th>\n",
       "      <th>min_hour_BaseDate</th>\n",
       "      <th>min_SOG</th>\n",
       "      <th>max_SOG</th>\n",
       "      <th>...</th>\n",
       "      <th>max_LON</th>\n",
       "      <th>min_BaseDate</th>\n",
       "      <th>max_BaseDate</th>\n",
       "      <th>min_hour_BaseDate</th>\n",
       "      <th>min_SOG</th>\n",
       "      <th>max_SOG</th>\n",
       "      <th>GEOM</th>\n",
       "      <th>points</th>\n",
       "      <th>COGS</th>\n",
       "      <th>SOGS</th>\n",
       "    </tr>\n",
       "  </thead>\n",
       "  <tbody>\n",
       "    <tr>\n",
       "      <th>0</th>\n",
       "      <td>538003095</td>\n",
       "      <td>25.18014</td>\n",
       "      <td>25.40751</td>\n",
       "      <td>-79.64881</td>\n",
       "      <td>-79.6033</td>\n",
       "      <td>2017-01-15 01:00:30</td>\n",
       "      <td>2017-01-15 01:58:55</td>\n",
       "      <td>2017-01-15 01:00:00</td>\n",
       "      <td>14.0</td>\n",
       "      <td>14.4</td>\n",
       "      <td>...</td>\n",
       "      <td>-79.66935</td>\n",
       "      <td>2017-01-15 01:00:16</td>\n",
       "      <td>2017-01-15 01:59:17</td>\n",
       "      <td>2017-01-15 01:00:00</td>\n",
       "      <td>12.2</td>\n",
       "      <td>12.4</td>\n",
       "      <td>0103000020E610000001000000AA000000747E1FED1CE8...</td>\n",
       "      <td>[[-79.67266, 25.29821], [-79.67274, 25.29417],...</td>\n",
       "      <td>[181.3, 180.9, 181.2, 180.7, 180.7, 180.8, 180...</td>\n",
       "      <td>[12.2, 12.2, 12.2, 12.3, 12.4, 12.3, 12.3, 12....</td>\n",
       "    </tr>\n",
       "  </tbody>\n",
       "</table>\n",
       "<p>1 rows × 28 columns</p>\n",
       "</div>"
      ],
      "text/plain": [
       "        MMSI   min_LAT   max_LAT   min_LON  max_LON        min_BaseDate  \\\n",
       "0  538003095  25.18014  25.40751 -79.64881 -79.6033 2017-01-15 01:00:30   \n",
       "\n",
       "         max_BaseDate   min_hour_BaseDate  min_SOG  max_SOG  \\\n",
       "0 2017-01-15 01:58:55 2017-01-15 01:00:00     14.0     14.4   \n",
       "\n",
       "                         ...                           max_LON  \\\n",
       "0                        ...                         -79.66935   \n",
       "\n",
       "         min_BaseDate        max_BaseDate   min_hour_BaseDate  min_SOG  \\\n",
       "0 2017-01-15 01:00:16 2017-01-15 01:59:17 2017-01-15 01:00:00     12.2   \n",
       "\n",
       "   max_SOG                                               GEOM  \\\n",
       "0     12.4  0103000020E610000001000000AA000000747E1FED1CE8...   \n",
       "\n",
       "                                              points  \\\n",
       "0  [[-79.67266, 25.29821], [-79.67274, 25.29417],...   \n",
       "\n",
       "                                                COGS  \\\n",
       "0  [181.3, 180.9, 181.2, 180.7, 180.7, 180.8, 180...   \n",
       "\n",
       "                                                SOGS  \n",
       "0  [12.2, 12.2, 12.2, 12.3, 12.4, 12.3, 12.3, 12....  \n",
       "\n",
       "[1 rows x 28 columns]"
      ]
     },
     "execution_count": 97,
     "metadata": {},
     "output_type": "execute_result"
    }
   ],
   "source": [
    "df"
   ]
  },
  {
   "cell_type": "code",
   "execution_count": 121,
   "metadata": {},
   "outputs": [
    {
     "data": {
      "text/plain": [
       "MMSI                                                         636015295\n",
       "min_LAT                                                        25.0965\n",
       "max_LAT                                                        25.2982\n",
       "min_LON                                                       -79.6737\n",
       "max_LON                                                       -79.6693\n",
       "min_BaseDate                                       2017-01-15 01:00:16\n",
       "max_BaseDate                                       2017-01-15 01:59:17\n",
       "min_hour_BaseDate                                  2017-01-15 01:00:00\n",
       "min_SOG                                                           12.2\n",
       "max_SOG                                                           12.4\n",
       "GEOM                 0103000020E610000001000000AA000000747E1FED1CE8...\n",
       "points               [[-79.67266, 25.29821], [-79.67274, 25.29417],...\n",
       "COGS                 [181.3, 180.9, 181.2, 180.7, 180.7, 180.8, 180...\n",
       "SOGS                 [12.2, 12.2, 12.2, 12.3, 12.4, 12.3, 12.3, 12....\n",
       "Name: 0, dtype: object"
      ]
     },
     "execution_count": 121,
     "metadata": {},
     "output_type": "execute_result"
    }
   ],
   "source": [
    "df_v1 = df.iloc[0,0:14]\n",
    "df_v2 = df.iloc[0,14:]\n",
    "\n",
    "df_v2"
   ]
  },
  {
   "cell_type": "markdown",
   "metadata": {},
   "source": [
    "## Check if a vessel is a giveway or standon"
   ]
  },
  {
   "cell_type": "code",
   "execution_count": 141,
   "metadata": {},
   "outputs": [],
   "source": [
    "# Check if a vessel is a giveway or standon\n",
    "\n",
    "import statistics\n",
    "import numpy as np\n",
    "\n",
    "def SG_function(SOG_Vessel,COG_Vessel):\n",
    "    speed_diff = []\n",
    "    cog_diff = []\n",
    "    for i in range(len(SOG_Vessel)-1):\n",
    "        speed_diff.append(abs(SOG_Vessel[i]-SOG_Vessel[i+1]))\n",
    "        cog_diff.append(abs(COG_Vessel[i]-COG_Vessel[i+1]))\n",
    "    if max(speed_diff) <= 3 and max(cog_diff) <= 30:\n",
    "        sg = 'stand on'\n",
    "    else:\n",
    "        sg = 'giveway'\n",
    "    return sg;"
   ]
  },
  {
   "cell_type": "code",
   "execution_count": 142,
   "metadata": {},
   "outputs": [
    {
     "data": {
      "text/plain": [
       "'stand on'"
      ]
     },
     "execution_count": 142,
     "metadata": {},
     "output_type": "execute_result"
    }
   ],
   "source": [
    "SOG_Vessel = [15, 15.3, 15.1, 15.9] \n",
    "COG_Vessel = [100,104,101,112] \n",
    "\n",
    "SG_function(SOG_Vessel,COG_Vessel)"
   ]
  },
  {
   "cell_type": "code",
   "execution_count": null,
   "metadata": {},
   "outputs": [],
   "source": []
  },
  {
   "cell_type": "markdown",
   "metadata": {},
   "source": [
    "## Calculate the great circle distance between two points on the earth (specified in decimal degrees)\n"
   ]
  },
  {
   "cell_type": "code",
   "execution_count": 35,
   "metadata": {},
   "outputs": [
    {
     "name": "stdout",
     "output_type": "stream",
     "text": [
      "0.1520762544582352\n"
     ]
    }
   ],
   "source": [
    "# Calculate the great circle distance between two points on the earth (specified in decimal degrees)\n",
    "lon1 = -117.22913\n",
    "lat1 = 32.70419\n",
    "lon2 = -117.22731\n",
    "lat2 = 32.70577\n",
    "\n",
    "#32.70419\t-117.22913\n",
    "#32.70577\t-117.22731\n",
    "\n",
    "\n",
    "\n",
    "def haversine(lat1, lon1, lat2, lon2):\n",
    "\n",
    "      R = 3959.87433 # this is in miles.  For Earth radius in kilometers use 6372.8 km\n",
    "\n",
    "      dLat = radians(lat2 - lat1)\n",
    "      dLon = radians(lon2 - lon1)\n",
    "      lat1 = radians(lat1)\n",
    "      lat2 = radians(lat2)\n",
    "\n",
    "      a = sin(dLat/2)**2 + cos(lat1)*cos(lat2)*sin(dLon/2)**2\n",
    "      c = 2*asin(sqrt(a))\n",
    "\n",
    "      return R * c\n",
    "\n",
    "print(haversine(lat1, lon1, lat2, lon2))"
   ]
  },
  {
   "cell_type": "markdown",
   "metadata": {},
   "source": [
    "## Calculate SOG"
   ]
  },
  {
   "cell_type": "code",
   "execution_count": 6,
   "metadata": {},
   "outputs": [
    {
     "name": "stdout",
     "output_type": "stream",
     "text": [
      "10.219907219862788\n"
     ]
    }
   ],
   "source": [
    "from datetime import datetime\n",
    "\n",
    "def dAtD(dateT):\n",
    "    dt = dateT.split('T')\n",
    "    dta = dt[0].split('-') + dt[1].split(':')\n",
    "    for i in dta:\n",
    "        dta[dta.index(i)] = int(i)\n",
    "    dta = datetime(dta[0],dta[1],dta[2],dta[3],dta[4],dta[5])\n",
    "    return dta\n",
    "\n",
    "\n",
    "def sogCalc(haversineOutput, time1, time2):\n",
    "    \"\"\"Input haversine output [in miles] and the raw data for time1 and time2\"\"\"\n",
    "    haversineOutput *= 0.868976\n",
    "    timeDif = dAtD(time2)-dAtD(time1)\n",
    "    return haversineOutput / (timeDif.total_seconds()/3600)\n",
    "    \n",
    "s = sogCalc( 10, \"2017-01-03T22:09:25\", \"2017-01-03T23:00:26\")\n",
    "print(s)"
   ]
  },
  {
   "cell_type": "code",
   "execution_count": null,
   "metadata": {},
   "outputs": [],
   "source": []
  },
  {
   "cell_type": "code",
   "execution_count": null,
   "metadata": {},
   "outputs": [],
   "source": []
  },
  {
   "cell_type": "markdown",
   "metadata": {},
   "source": [
    "## Calculate Bearing"
   ]
  },
  {
   "cell_type": "code",
   "execution_count": 26,
   "metadata": {},
   "outputs": [
    {
     "data": {
      "text/plain": [
       "45.89417815796708"
      ]
     },
     "execution_count": 26,
     "metadata": {},
     "output_type": "execute_result"
    }
   ],
   "source": [
    "# Calculate Bearing\n",
    "from math import *\n",
    "\n",
    "lon1 = -117.22913\n",
    "lat1 = 32.70419\n",
    "lon2 = -117.22731\n",
    "lat2 = 32.70577\n",
    "\n",
    "#32.70419\t-117.22913\n",
    "#32.70577\t-117.22731\n",
    "def calc_bearing(lon1, lat1, lon2, lat2):\n",
    "    lon1, lat1, lon2, lat2 = map(radians, [lon1, lat1, lon2, lat2])\n",
    "\n",
    "    dlon = lon2 - lon1\n",
    "    dlat = lat2 - lat1\n",
    "    a = sin(dlat/2)**2 + cos(lat1) * cos(lat2) * sin(dlon/2)**2\n",
    "    c = 2 * atan2(sqrt(a), sqrt(1-a))\n",
    "    Base = 6371 * c\n",
    "\n",
    "\n",
    "    Bearing =atan2(cos(lat1)*sin(lat2)-sin(lat1)*cos(lat2)*cos(lon2-lon1), sin(lon2-lon1)*cos(lat2)) \n",
    "\n",
    "    Bearing = degrees(Bearing)\n",
    "    return Bearing\n",
    "    #print(Bearing)\n",
    "\n",
    "calc_bearing(lon1, lat1, lon2, lat2)"
   ]
  },
  {
   "cell_type": "markdown",
   "metadata": {},
   "source": [
    "## Label Head-on colregs"
   ]
  },
  {
   "cell_type": "code",
   "execution_count": 128,
   "metadata": {},
   "outputs": [],
   "source": [
    "def label_headon(cog_vessel_1,cog_vessel_2,sog_vessel_1, sog_vessel_2,lat_vessel_1,lon_vessel_1,lat_vessel_2,lon_vessel_2):\n",
    "    cog_vessel_1_up = cog_vessel_1 + 7 \n",
    "    cog_vessel_1_down = cog_vessel_1 - 7 \n",
    "    cog_vessel_2_up = cog_vessel_2 + 7 \n",
    "    cog_vessel_2_down = cog_vessel_2 - 7 \n",
    "    \n",
    "    if cog_vessel_1 <= cog_vessel_2_up and cog_vessel_1 >= cog_vessel_2_down:\n",
    "        print('Same Direction! Overtaking???')\n",
    "        colreg_type = 'NA'\n",
    "        return colreg_type\n",
    "    bearing_V1_to_V2 = calc_bearing(lon_vessel_1, lat_vessel_1, lon_vessel_2, lat_vessel_2)\n",
    "    bearing_V2_to_V1 = calc_bearing(lon_vessel_2, lat_vessel_2, lon_vessel_1, lat_vessel_1)\n",
    "    if bearing_V1_to_V2 <= cog_vessel_1_up and bearing_V1_to_V2 >= cog_vessel_1_down:\n",
    "        if bearing_V2_to_V1 <= cog_vessel_2_up and bearing_V2_to_V1 >= cog_vessel_2_down:\n",
    "            print('Head on')\n",
    "            colreg_type = 'head on'\n",
    "            return colreg_type\n",
    "    colreg_type = 'NA'\n",
    "    return colreg_type"
   ]
  },
  {
   "cell_type": "code",
   "execution_count": 129,
   "metadata": {},
   "outputs": [
    {
     "data": {
      "text/plain": [
       "'NA'"
      ]
     },
     "execution_count": 129,
     "metadata": {},
     "output_type": "execute_result"
    }
   ],
   "source": [
    "cog_vessel_1 =  df_v1['COGS'][0]\n",
    "cog_vessel_2 = df_v2['COGS'][0]\n",
    "sog_vessel_1 = df_v1['SOGS'][0]\n",
    "sog_vessel_2 = df_v2['SOGS'][0]\n",
    "lat_vessel_1 = df_v1['points'][0][1]\n",
    "lat_vessel_2 = df_v2['points'][0][1]\n",
    "lon_vessel_1 = df_v1['points'][0][0]\n",
    "lon_vessel_2 = df_v2['points'][0][0]\n",
    "\n",
    "\n",
    "label_headon(cog_vessel_1,cog_vessel_2,sog_vessel_1, sog_vessel_2,lat_vessel_1,lon_vessel_1,lat_vessel_2,lon_vessel_2)"
   ]
  },
  {
   "cell_type": "code",
   "execution_count": null,
   "metadata": {},
   "outputs": [],
   "source": []
  },
  {
   "cell_type": "markdown",
   "metadata": {},
   "source": [
    "## Label Overtaking colregs"
   ]
  },
  {
   "cell_type": "code",
   "execution_count": 202,
   "metadata": {},
   "outputs": [],
   "source": [
    "def label_overtaking(lat_vessel_1_ARRAY, lon_vessel_1_ARRAY,lat_vessel_2_ARRAY,lon_vessel_2_ARRAY,cog_vessel_1_ARRAY,cog_vessel_2_ARRAY,sog_vessel_1_ARRAY, sog_vessel_2_ARRAY):\n",
    "    # Find out if the vessels are stand on or giveway\n",
    "    vessel_type_1 = SG_function(sog_vessel_1_ARRAY,cog_vessel_1_ARRAY)\n",
    "    vessel_type_2 = SG_function(sog_vessel_2_ARRAY,cog_vessel_2_ARRAY)\n",
    "    # Determine which vessel is the front vessel\n",
    "    if vessel_type_1 == 'giveaway' and vessel_type_2 == 'giveaway':\n",
    "        print('not overtaking')\n",
    "        return\n",
    "    if vessel_type_1 == 'stand on':\n",
    "        front_vessel_cog = cog_vessel_1_ARRAY\n",
    "        front_vessel_sog = cog_vessel_1_ARRAY\n",
    "        front_vessel_lat = lat_vessel_1_ARRAY\n",
    "        front_vessel_lon = lon_vessel_1_ARRAY\n",
    "        back_vessel_cog = cog_vessel_2_ARRAY\n",
    "        back_vessel_sog = cog_vessel_2_ARRAY\n",
    "        back_vessel_lat = lat_vessel_2_ARRAY\n",
    "        back_vessel_lon = lon_vessel_2_ARRAY\n",
    "        print('Vessel 1 is the front vessel')\n",
    "    else:\n",
    "        front_vessel_cog = cog_vessel_2_ARRAY\n",
    "        front_vessel_sog = cog_vessel_2_ARRAY\n",
    "        front_vessel_lat = lat_vessel_2_ARRAY\n",
    "        front_vessel_lon = lon_vessel_2_ARRAY\n",
    "        back_vessel_cog = cog_vessel_1_ARRAY\n",
    "        back_vessel_sog = cog_vessel_1_ARRAY\n",
    "        back_vessel_lat = lat_vessel_1_ARRAY\n",
    "        back_vessel_lon = lon_vessel_1_ARRAY\n",
    "        print('Vessel 2 is the front vessel')\n",
    "    \n",
    "    def is_shipb_front_or_back(shipA_coor, shipB_coor):\n",
    "        # create back triangle at beginning of interaction\n",
    "        lat_diff = shipB_coor[1] - shipA_coor[1]\n",
    "        lon_diff = shipB_coor[0] - shipA_coor[0]\n",
    "\n",
    "        back_position_vector = [float(lon_diff), float(lat_diff)]\n",
    "\n",
    "        magnitude = lambda vec : math.sqrt(math.pow(vec[0], 2) + math.pow(vec[1], 2))\n",
    "        back_vector_mag = magnitude(back_position_vector)\n",
    "        back_unit_vector = [back_position_vector[0]/back_vector_mag, back_position_vector[1]/back_vector_mag]\n",
    "        back_angle = math.degrees(math.atan2(back_unit_vector[1], back_unit_vector[0]))\n",
    "\n",
    "        print(front_vessel_cog)\n",
    "\n",
    "        front_vessel_cog_unitcircled = 0\n",
    "        # left side\n",
    "        if -180 >= front_vessel_cog >= 0:\n",
    "            front_vessel_cog_unitcircled = (-1 * front_vessel_cog) + 90;\n",
    "        # top right quadrent\n",
    "        elif 90 >= front_vessel_cog >= 0:\n",
    "            front_vessel_cog_unitcircled = 90 - front_vessel_cog;\n",
    "        # bottom right quadrent\n",
    "        elif 180 >= front_vessel_cog >= 90:\n",
    "            front_vessel_cog_unitcircled = 180 + front_vessel_cog;\n",
    "\n",
    "        if 247.5 >= math.abs(back_angle - front_vessel_cog_unitcircled) >= 112.5:\n",
    "            # ship B is behind\n",
    "            print(\"ship B is behind\")\n",
    "            return false\n",
    "        elif (135/2) >= math.abs(back_angle - front_vessel_cog_unitcircled):\n",
    "            # ship B is in front\n",
    "            print(\"ship B is in front\")\n",
    "            return true\n",
    "        else:\n",
    "            return None\n",
    "\n",
    "    # check if both cogs are within 15 degrees of each other at beginning of interactions\n",
    "    cog_diff_begin = front_vessel_cog[0] - back_vessel_cog[0]\n",
    "    if cog_diff_begin > 30:\n",
    "        print('not overtaking')\n",
    "        return\n",
    "    \n",
    "    # check if back vessel is in back triangle at beginning of interaction\n",
    "    shipA_coor = [front_vessel_lon[0], front_vessel_lat[0]]\n",
    "    shipB_coor = [back_vessel_lon[0], back_vessel_lat[0]]\n",
    "    result = is_shipb_front_or_back(shipA_coor, shipB_coor) \n",
    "    # True: shipB is in front of shipA\n",
    "    # False: shipB is behind shipA\n",
    "    # Null: Not over taking\n",
    "    if result not False:\n",
    "        colreg_type = 'NA'\n",
    "        return colreg_type\n",
    "    \n",
    "    # check if both cogs are within 15 degrees of each other at end of interaction\n",
    "    cog_diff_end = front_vessel_cog[-1] - back_vessel_cog[-1]\n",
    "    if cog_diff_end > 30:\n",
    "        print('not overtaking')\n",
    "        return\n",
    "    # check if back vessel is in front triangle at end of interaction\n",
    "    shipA_coor = [front_vessel_lon[-1], front_vessel_lat[-1]]\n",
    "    shipB_coor = [back_vessel_lon[-1], back_vessel_lat[-1]]\n",
    "    result = is_shipb_front_or_back(shipA_coor, shipB_coor) \n",
    "    # True: shipB is in front of shipA\n",
    "    # False: shipB is behind shipA\n",
    "    # Null: Not over taking\n",
    "    if result not True:\n",
    "        colreg_type = 'NA'\n",
    "        return colreg_type\n",
    "    colreg_type = 'NA'\n",
    "    return colreg_type\n",
    "    \n",
    "    "
   ]
  },
  {
   "cell_type": "code",
   "execution_count": 201,
   "metadata": {},
   "outputs": [
    {
     "name": "stdout",
     "output_type": "stream",
     "text": [
      "Vessel 1 is the front vessel\n",
      "[Decimal('10.5'), Decimal('10.0'), Decimal('10.1'), Decimal('9.7'), Decimal('9.7'), Decimal('9.8'), Decimal('10.1'), Decimal('10.4'), Decimal('9.9'), Decimal('10.2'), Decimal('10.1'), Decimal('10.4'), Decimal('10.4'), Decimal('10.3'), Decimal('10.3'), Decimal('10.7'), Decimal('10.7'), Decimal('10.3'), Decimal('10.0'), Decimal('10.1'), Decimal('9.6'), Decimal('10.1'), Decimal('10.3'), Decimal('10.2'), Decimal('10.0'), Decimal('10.3'), Decimal('10.2'), Decimal('10.4'), Decimal('10.4'), Decimal('10.5'), Decimal('10.3'), Decimal('10.6'), Decimal('10.9'), Decimal('10.9'), Decimal('9.8'), Decimal('9.2'), Decimal('9.2'), Decimal('9.3'), Decimal('8.9'), Decimal('9.0'), Decimal('9.1'), Decimal('9.3'), Decimal('8.3'), Decimal('10.3'), Decimal('11.3'), Decimal('11.8'), Decimal('11.9'), Decimal('11.5'), Decimal('11.5'), Decimal('11.3'), Decimal('11.2'), Decimal('11.3'), Decimal('11.4'), Decimal('11.5')]\n"
     ]
    },
    {
     "ename": "TypeError",
     "evalue": "'>=' not supported between instances of 'int' and 'list'",
     "output_type": "error",
     "traceback": [
      "\u001b[1;31m---------------------------------------------------------------------------\u001b[0m",
      "\u001b[1;31mTypeError\u001b[0m                                 Traceback (most recent call last)",
      "\u001b[1;32m<ipython-input-201-94b71342448b>\u001b[0m in \u001b[0;36m<module>\u001b[1;34m()\u001b[0m\n\u001b[0;32m     18\u001b[0m \u001b[1;31m# print(len(lon_vessel_2_ARRAY))\u001b[0m\u001b[1;33m\u001b[0m\u001b[1;33m\u001b[0m\u001b[0m\n\u001b[0;32m     19\u001b[0m \u001b[1;33m\u001b[0m\u001b[0m\n\u001b[1;32m---> 20\u001b[1;33m \u001b[0mlabel_overtaking\u001b[0m\u001b[1;33m(\u001b[0m\u001b[0mlat_vessel_1_ARRAY\u001b[0m\u001b[1;33m,\u001b[0m \u001b[0mlon_vessel_1_ARRAY\u001b[0m\u001b[1;33m,\u001b[0m\u001b[0mlat_vessel_2_ARRAY\u001b[0m\u001b[1;33m,\u001b[0m\u001b[0mlon_vessel_2_ARRAY\u001b[0m\u001b[1;33m,\u001b[0m\u001b[0mcog_vessel_1_ARRAY\u001b[0m\u001b[1;33m,\u001b[0m\u001b[0mcog_vessel_2_ARRAY\u001b[0m\u001b[1;33m,\u001b[0m\u001b[0msog_vessel_1_ARRAY\u001b[0m\u001b[1;33m,\u001b[0m \u001b[0msog_vessel_2_ARRAY\u001b[0m\u001b[1;33m)\u001b[0m\u001b[1;33m\u001b[0m\u001b[0m\n\u001b[0m\u001b[0;32m     21\u001b[0m \u001b[1;33m\u001b[0m\u001b[0m\n",
      "\u001b[1;32m<ipython-input-200-161de276335a>\u001b[0m in \u001b[0;36mlabel_overtaking\u001b[1;34m(lat_vessel_1_ARRAY, lon_vessel_1_ARRAY, lat_vessel_2_ARRAY, lon_vessel_2_ARRAY, cog_vessel_1_ARRAY, cog_vessel_2_ARRAY, sog_vessel_1_ARRAY, sog_vessel_2_ARRAY)\u001b[0m\n\u001b[0;32m     50\u001b[0m     \u001b[0mfront_vessel_cog_unitcircled\u001b[0m \u001b[1;33m=\u001b[0m \u001b[1;36m0\u001b[0m\u001b[1;33m\u001b[0m\u001b[0m\n\u001b[0;32m     51\u001b[0m     \u001b[1;31m# left side\u001b[0m\u001b[1;33m\u001b[0m\u001b[1;33m\u001b[0m\u001b[0m\n\u001b[1;32m---> 52\u001b[1;33m     \u001b[1;32mif\u001b[0m \u001b[1;33m-\u001b[0m\u001b[1;36m180\u001b[0m \u001b[1;33m>=\u001b[0m \u001b[0mfront_vessel_cog\u001b[0m \u001b[1;33m>=\u001b[0m \u001b[1;36m0\u001b[0m\u001b[1;33m:\u001b[0m\u001b[1;33m\u001b[0m\u001b[0m\n\u001b[0m\u001b[0;32m     53\u001b[0m         \u001b[0mfront_vessel_cog_unitcircled\u001b[0m \u001b[1;33m=\u001b[0m \u001b[1;33m(\u001b[0m\u001b[1;33m-\u001b[0m\u001b[1;36m1\u001b[0m \u001b[1;33m*\u001b[0m \u001b[0mfront_vessel_cog\u001b[0m\u001b[1;33m)\u001b[0m \u001b[1;33m+\u001b[0m \u001b[1;36m90\u001b[0m\u001b[1;33m;\u001b[0m\u001b[1;33m\u001b[0m\u001b[0m\n\u001b[0;32m     54\u001b[0m     \u001b[1;31m# top right quadrent\u001b[0m\u001b[1;33m\u001b[0m\u001b[1;33m\u001b[0m\u001b[0m\n",
      "\u001b[1;31mTypeError\u001b[0m: '>=' not supported between instances of 'int' and 'list'"
     ]
    }
   ],
   "source": [
    "sog_vessel_1_ARRAY = df_v1['SOGS']\n",
    "cog_vessel_1_ARRAY = df_v1['COGS']\n",
    "sog_vessel_2_ARRAY = df_v2['SOGS']\n",
    "cog_vessel_2_ARRAY = df_v2['COGS']\n",
    "lat_vessel_1_ARRAY = [x[1] for x in df_v1['points']]\n",
    "lat_vessel_2_ARRAY = [x[1] for x in df_v2['points']]\n",
    "lon_vessel_1_ARRAY = [x[0] for x in df_v1['points']]\n",
    "lon_vessel_2_ARRAY = [x[0] for x in df_v2['points']]\n",
    "\n",
    "# Check if all inputs are defined\n",
    "# print(len(sog_vessel_1_ARRAY))\n",
    "# print(len(cog_vessel_1_ARRAY))\n",
    "# print(len(sog_vessel_2_ARRAY))\n",
    "# print(len(cog_vessel_2_ARRAY))\n",
    "# print(len(lat_vessel_1_ARRAY))\n",
    "# print(len(lat_vessel_2_ARRAY))\n",
    "# print(len(lon_vessel_1_ARRAY))\n",
    "# print(len(lon_vessel_2_ARRAY))\n",
    "\n",
    "label_overtaking(lat_vessel_1_ARRAY, lon_vessel_1_ARRAY,lat_vessel_2_ARRAY,lon_vessel_2_ARRAY,cog_vessel_1_ARRAY,cog_vessel_2_ARRAY,sog_vessel_1_ARRAY, sog_vessel_2_ARRAY)\n",
    "\n",
    "\n"
   ]
  },
  {
   "cell_type": "markdown",
   "metadata": {},
   "source": [
    "## Label Crossing colregs"
   ]
  },
  {
   "cell_type": "code",
   "execution_count": null,
   "metadata": {},
   "outputs": [],
   "source": [
    "  "
   ]
  },
  {
   "cell_type": "code",
   "execution_count": 181,
   "metadata": {},
   "outputs": [
    {
     "data": {
      "text/plain": [
       "'NA'"
      ]
     },
     "execution_count": 181,
     "metadata": {},
     "output_type": "execute_result"
    }
   ],
   "source": [
    "# X1 = lat_vessel_1_ARRAY[0]\n",
    "# Y1 = lon_vessel_1_ARRAY[0]\n",
    "# X2 = lat_vessel_1_ARRAY[-1]\n",
    "# Y2 = lon_vessel_1_ARRAY[-1]\n",
    "# X3 = lat_vessel_2_ARRAY[0]                      \n",
    "# Y3 = lon_vessel_2_ARRAY[0]\n",
    "# X4 = lat_vessel_2_ARRAY[-1]\n",
    "# Y4 = lon_vessel_2_ARRAY[-1]\n",
    "\n",
    "lat_vessel_1_ARRAY = [x[1] for x in df_v1['points']]\n",
    "lat_vessel_2_ARRAY = [x[1] for x in df_v2['points']]\n",
    "lon_vessel_1_ARRAY = [x[0] for x in df_v1['points']]\n",
    "lon_vessel_2_ARRAY = [x[0] for x in df_v2['points']]\n",
    "\n",
    "# lat_vessel_1_ARRAY = [2,4]\n",
    "# lon_vessel_1_ARRAY = [4,1]\n",
    "# lat_vessel_2_ARRAY = [1,5]\n",
    "# lon_vessel_2_ARRAY = [1,3]\n",
    "\n",
    "# x1 = 2\n",
    "# y1 = 4\n",
    "# x2 = 4\n",
    "# y2 = 1\n",
    "# x3 = 1                     \n",
    "# y3 = 1\n",
    "# x4 = 5\n",
    "# y4 = 3\n",
    "def crossing(lat_vessel_1_ARRAY, lon_vessel_1_ARRAY,lat_vessel_2_ARRAY,lon_vessel_2_ARRAY):\n",
    "    X1 = lat_vessel_1_ARRAY[0]\n",
    "    Y1 = lon_vessel_1_ARRAY[0]\n",
    "    X2 = lat_vessel_1_ARRAY[-1]\n",
    "    Y2 = lon_vessel_1_ARRAY[-1]\n",
    "    X3 = lat_vessel_2_ARRAY[0]                      \n",
    "    Y3 = lon_vessel_2_ARRAY[0]\n",
    "    X4 = lat_vessel_2_ARRAY[-1]\n",
    "    Y4 = lon_vessel_2_ARRAY[-1]\n",
    "    \n",
    "    I1 = [min(X1,X2), max(X1,X2)]\n",
    "    I2 = [min(X3,X4), max(X3,X4)]\n",
    "    Ia = [max( min(X1,X2), min(X3,X4) ),min( max(X1,X2), max(X3,X4) )]\n",
    "    if (max(X1,X2) < min(X3,X4)):\n",
    "        return False; ## There is no mutual abcisses\n",
    "    A1 = (Y1-Y2)/(X1-X2) ## Pay attention to not dividing by zero\n",
    "    A2 = (Y3-Y4)/(X3-X4) ## Pay attention to not dividing by zero\n",
    "    b1 = Y1-A1*X1 \n",
    "    b2 = Y3-A2*X3     \n",
    "    if (A1 == A2):\n",
    "        colreg_type = 'NA'\n",
    "        return colreg_type; ## Parallel segments\n",
    "    Xa = (b2 - b1) / (A1 - A2) ## Once again, pay attention to not dividing by zer\n",
    "    Ya = A2 * Xa + b2\n",
    "    if  Xa < max( min(X1,X2), min(X3,X4) ) or Xa > min( max(X1,X2), max(X3,X4) ):\n",
    "        colreg_type = 'NA'\n",
    "        return colreg_type; ## intersection is out of bound\n",
    "    else:\n",
    "        colreg_type = 'crossing'\n",
    "        return colreg_type    \n",
    "    \n",
    "crossing(lat_vessel_1_ARRAY, lon_vessel_1_ARRAY,lat_vessel_2_ARRAY,lon_vessel_2_ARRAY)"
   ]
  },
  {
   "cell_type": "markdown",
   "metadata": {},
   "source": [
    "## Logic for Julia Flowchart"
   ]
  },
  {
   "cell_type": "code",
   "execution_count": null,
   "metadata": {},
   "outputs": [],
   "source": []
  }
 ],
 "metadata": {
  "kernelspec": {
   "display_name": "Python 3",
   "language": "python",
   "name": "python3"
  },
  "language_info": {
   "codemirror_mode": {
    "name": "ipython",
    "version": 3
   },
   "file_extension": ".py",
   "mimetype": "text/x-python",
   "name": "python",
   "nbconvert_exporter": "python",
   "pygments_lexer": "ipython3",
   "version": "3.6.5"
  }
 },
 "nbformat": 4,
 "nbformat_minor": 2
}
